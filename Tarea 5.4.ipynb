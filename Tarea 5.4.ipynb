{
 "cells": [
  {
   "cell_type": "markdown",
   "metadata": {},
   "source": [
    "### Tarea 5.4"
   ]
  },
  {
   "cell_type": "markdown",
   "metadata": {},
   "source": [
    "Ejercicio sacado de \"Basic Probability Theory\", R. B. Ash, Dover, 1970."
   ]
  },
  {
   "cell_type": "markdown",
   "metadata": {},
   "source": [
    "En una cierta población, el $20\\%$ de las personas tiene una enfermedad. Se hace un examen a los miembros de la población que tiene la característica de dar positivo el $90\\%$ de las veces si la persona tiene la enfermedad y el $30\\%$ de las veces si la persona no tiene la enfermedad (falso positivo). A los que dan positivo se les suministra una droga que puede causar manchas rojas en la piel en un $20\\%$ de los pacientes. \n",
    "\n",
    "Si una persona tiene esas manchas rojas. ¿Cuál es la probabilidad de que haya tenido la enfermedad?"
   ]
  },
  {
   "cell_type": "markdown",
   "metadata": {},
   "source": [
    "Para esta solución se utilizará el Teorema de Bayes:\n",
    "\n",
    "$$\n",
    "P(A|B) = \\frac{P(B|A) P(A)}{P(B)}\n",
    "$$"
   ]
  },
  {
   "cell_type": "markdown",
   "metadata": {},
   "source": [
    "Primero se deben de definir los parámetros a medir, en este caso, la cnatidad de personas en la población puede variar al gusto de usuario, esto es así ya que no es tan relevante la cantidad en la población, sino más bien el proceso para calcular que tan probable es que haya un infectado que tenga manchas rojas:"
   ]
  },
  {
   "cell_type": "code",
   "execution_count": 1,
   "metadata": {},
   "outputs": [],
   "source": [
    "poblacion = 1000000 #Cantidad de habitantes en la población. El usuario puede modificar este valor.\n",
    "sanos = 0.8*poblacion #Porcentaje personas sanas en la población. Un 80%.\n",
    "enfermos = 0.2*poblacion #Porcentaje personas enfermas en la población. Un 20%.\n",
    "positivo = 0.9*enfermos #Porcentaje de enfermos que dan positivo en el exámen. Un 90%.\n",
    "falso_positivo = 0.3*sanos #Porcentaje de sanos que dan falso positivo. Un 30%.\n",
    "manchas_rojas_real = 0.2*positivo #Porcentaje de personas con manchas enfermas. Un 20% de los positivos.\n",
    "manchas_rojas_falso = 0.2*falso_positivo #Porcentaje de personas con manchas sanas. Un 20% de los falsos positivos.\n",
    "manchas_rojas_total = manchas_rojas_real+manchas_rojas_falso #Porcentaje total de personas con manchas rojas."
   ]
  },
  {
   "cell_type": "markdown",
   "metadata": {},
   "source": [
    "Método Bayesiano, donde se considera el porcentaje real de la cantidad de personas con manchas rojas que estan infectadas, en comparación a la cantidad total de personas con manchas rojas:"
   ]
  },
  {
   "cell_type": "code",
   "execution_count": 2,
   "metadata": {},
   "outputs": [
    {
     "data": {
      "text/plain": [
       "0.42857142857142855"
      ]
     },
     "execution_count": 2,
     "metadata": {},
     "output_type": "execute_result"
    }
   ],
   "source": [
    "manchas_rojas_real/(manchas_rojas_total)"
   ]
  },
  {
   "cell_type": "markdown",
   "metadata": {},
   "source": [
    "Como se puede observar, la probabilidad de que una persona que tenga manchas rojas esté también infectada es $\\approx 42.9\\%$."
   ]
  }
 ],
 "metadata": {
  "kernelspec": {
   "display_name": "Python 3",
   "language": "python",
   "name": "python3"
  },
  "language_info": {
   "codemirror_mode": {
    "name": "ipython",
    "version": 3
   },
   "file_extension": ".py",
   "mimetype": "text/x-python",
   "name": "python",
   "nbconvert_exporter": "python",
   "pygments_lexer": "ipython3",
   "version": "3.8.3"
  }
 },
 "nbformat": 4,
 "nbformat_minor": 4
}
