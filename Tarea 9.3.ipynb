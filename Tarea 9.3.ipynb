{
 "cells": [
  {
   "cell_type": "markdown",
   "metadata": {},
   "source": [
    "### Tarea 9.3"
   ]
  },
  {
   "cell_type": "markdown",
   "metadata": {},
   "source": [
    "Ejercicio 4.4.17 libro de Burden de análisis numérico.\n",
    "\n",
    "Determine con una precisión de $10^{-6}$ la longitud del gráfico de la elipse con ecuación $4x^2 + 9y^2 = 36$. Para esto use algún método de integración compuesta."
   ]
  },
  {
   "cell_type": "code",
   "execution_count": 1,
   "metadata": {},
   "outputs": [],
   "source": [
    "#Importacióm de paquetes a usar\n",
    "import numpy as np\n",
    "import matplotlib.pyplot as plt"
   ]
  },
  {
   "cell_type": "markdown",
   "metadata": {},
   "source": [
    "Para graficar la elipse con la que se trata, se puede usar la ecuación paramétrica de cualquier elipse:\n",
    "\n",
    "$$\n",
    "x = u + a\\cos(\\theta) \\quad y = v + b\\sin(\\theta)\n",
    "$$\n",
    "\n",
    "con $(u, v)$ el centro de la elise.\n",
    "\n",
    "Considerando nuestro caso, los semiejes son:\n",
    "\n",
    "$$\n",
    "4x^2 + 9y^2 = 36 \\Rightarrow \\frac{x^2}{9} + \\frac{y^2}{4} = 1\n",
    "$$\n",
    "\n",
    "Por lo tanto $a=3$ y $b=2$, entonces la integral queda:"
   ]
  },
  {
   "cell_type": "code",
   "execution_count": 2,
   "metadata": {},
   "outputs": [
    {
     "data": {
      "image/png": "[encoded data removed]",
      "text/plain": [
       "<Figure size 432x288 with 1 Axes>"
      ]
     },
     "metadata": {
      "needs_background": "light"
     },
     "output_type": "display_data"
    }
   ],
   "source": [
    "u=0     #posicion x central\n",
    "v=0     #posición y central\n",
    "a=3     #semieje mayor\n",
    "b=2     #semieje menor\n",
    "\n",
    "#Gráfica de la elipse\n",
    "theta = np.linspace(0, 2*np.pi, 100)\n",
    "plt.plot( u+a*np.cos(theta), v+b*np.sin(theta))\n",
    "plt.legend([\"$4x^{2} + 9y^{2} = 36$\"])\n",
    "plt.title('Elipse')\n",
    "plt.show()"
   ]
  },
  {
   "cell_type": "markdown",
   "metadata": {},
   "source": [
    "Si se considera una elipse cualquiera:\n",
    "\n",
    "$$\n",
    "\\frac{x^2}{a^2}+\\frac{y^2}{b^2}=1\n",
    "$$\n",
    "\n",
    "Se puede obtener una longitud aproximada de esta usando la ecuación paramétrica centrada en $(0,0)$:\n",
    "\n",
    "$$\n",
    "x = a\\cos(\\theta) \\quad y = b\\sin(\\theta)\n",
    "$$\n",
    "\n",
    "El arco de la elipse vendría dado por:\n",
    "\n",
    "$$\n",
    "ds = \\sqrt{dx+dy} = \\sqrt{a^2\\sin^2(\\theta)+b^2\\cos^2(\\theta)}\\cdot d\\theta\n",
    "$$\n",
    "\n",
    "Luego la integral sera:\n",
    "\n",
    "$$\n",
    "L = \\int^{2\\pi}_0 \\sqrt{a^2\\sin^2(\\theta)+b^2\\cos^2(\\theta)}\\cdot d\\theta\n",
    "$$\n",
    "\n",
    "Y para calcularla se usará el método de romberg"
   ]
  },
  {
   "cell_type": "code",
   "execution_count": 3,
   "metadata": {},
   "outputs": [],
   "source": [
    "#Integracion compuesta de Romberg\n",
    "def romberg(f, a, b, n):\n",
    "    \n",
    "    R0 = np.zeros(n)\n",
    "    R1 = np.zeros(n)\n",
    "    \n",
    "    h = (b - a)\n",
    "    R0[0] = (h/2)*(f(b) + f(a))\n",
    "    for i in range(1, n):\n",
    "        s = sum(f(a + (k - 0.5)*h) for k in range(1, int(2**(i-1)) + 1))\n",
    "        R1[0] = (1/2)*(R0[0] + h*s) # aproximación trapezoidal papra este h\n",
    "        for j in range(1, i+1):\n",
    "            R1[j] = R1[j-1] + (R1[j-1] - R0[j-1])/(4**(j) - 1)\n",
    "        h = h/2\n",
    "        for j in range(i+1):\n",
    "            R0[j] = R1[j]\n",
    "            \n",
    "    return R0[-1]"
   ]
  },
  {
   "cell_type": "code",
   "execution_count": 4,
   "metadata": {},
   "outputs": [],
   "source": [
    "def funcion(theta): #Definición de función a integrar\n",
    "    return (a**2 * np.sin(theta)**2 + b**2 * np.cos(theta)**2)**(1/2)"
   ]
  },
  {
   "cell_type": "code",
   "execution_count": 5,
   "metadata": {},
   "outputs": [
    {
     "data": {
      "text/plain": [
       "15.86543958929075"
      ]
     },
     "execution_count": 5,
     "metadata": {},
     "output_type": "execute_result"
    }
   ],
   "source": [
    "#Integración con el método de Romberg\n",
    "romberg(funcion, 0, 2*np.pi, 20)"
   ]
  },
  {
   "cell_type": "markdown",
   "metadata": {},
   "source": [
    "Finalmente se logró encontrar el valor para la longitud de la función de elipse, este valor es correspondiente a $\\approx 15.86544$"
   ]
  }
 ],
 "metadata": {
  "kernelspec": {
   "display_name": "Python 3",
   "language": "python",
   "name": "python3"
  },
  "language_info": {
   "codemirror_mode": {
    "name": "ipython",
    "version": 3
   },
   "file_extension": ".py",
   "mimetype": "text/x-python",
   "name": "python",
   "nbconvert_exporter": "python",
   "pygments_lexer": "ipython3",
   "version": "3.8.3"
  }
 },
 "nbformat": 4,
 "nbformat_minor": 4
}
