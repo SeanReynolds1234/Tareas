{
 "cells": [
  {
   "cell_type": "markdown",
   "metadata": {},
   "source": [
    "### Tarea 4.4"
   ]
  },
  {
   "cell_type": "markdown",
   "metadata": {},
   "source": [
    "Queremos calcular $x^3$. ¿Es más rápido calcular x\\*x\\*x o x\\*\\*3?\n",
    "\n",
    "El problema es que Python calcula ambas operaciones muy rápido y es imposible decidir cuál es mejor.\n",
    "\n",
    "Para hacerlo podemos realizar la operación muchas veces y ver cuánto tarda. \n",
    "\n",
    "Modifique la función medir_tiempo para que admita un argumento adicional que sea el número de veces que se evalúa la función. Úsela para medir cuál es más rápido entre x\\*x\\*x o x\\*\\*3."
   ]
  },
  {
   "cell_type": "code",
   "execution_count": 1,
   "metadata": {},
   "outputs": [],
   "source": [
    "from time import time"
   ]
  },
  {
   "cell_type": "markdown",
   "metadata": {},
   "source": [
    "**Solución 1:**"
   ]
  },
  {
   "cell_type": "markdown",
   "metadata": {},
   "source": [
    "Para esta solución se generaron las operaciones x\\*x\\*x y x\\*\\*3, para luego modificar la función \"medir_tiempo\" y hacer que esta itere cuantas veces el usuario quiera y ver cuánto se demora la operación."
   ]
  },
  {
   "cell_type": "code",
   "execution_count": 2,
   "metadata": {},
   "outputs": [],
   "source": [
    "#Definición de funciones representantes de x^3\n",
    "def cubo(n):\n",
    "    '''\n",
    "    Esta función entrega el cubo de un número.\n",
    "    Se usa con el comando \"cubo(ingrese cualquier número)\".\n",
    "    \n",
    "    Ejemplo: 3^3=27\n",
    "    '''\n",
    "    return n**3 #Operación: elevar al cubo\n",
    "def TresVeces(n):\n",
    "    '''\n",
    "    Esta función entrega un número multiplicado consigo mismo tres veces.\n",
    "    Se usa con el comando \"TresVeces(ingrese cualquier número)\".\n",
    "    \n",
    "    Ejemplo: 2x2x2=8\n",
    "    '''\n",
    "    return n*n*n#Operación: multiplicar tres veces el valor"
   ]
  },
  {
   "cell_type": "code",
   "execution_count": 3,
   "metadata": {},
   "outputs": [],
   "source": [
    "#Se define una función útil para medir el tiempo que tarda una operación\n",
    "def medir_tiempo(func, *args, vueltas):\n",
    "    '''\n",
    "    Esta función entrega el valor temporal el cual se demora\n",
    "    cierta operación o función.\n",
    "    \n",
    "    medir_tiempo permite 3 parámetros:\n",
    "    - func: La función u operación que se quiere evaluar.\n",
    "    - *args: Los argumentos que permite la función a evaluar.\n",
    "    - vueltas: Este es el número de veces que se evalúa la función.\n",
    "        \n",
    "    Ejemplo de escritura: medir_tiempo(cubo, 5, vueltas=1000)\n",
    "    '''\n",
    "    t1=time() #Tiempo anterior a la operación\n",
    "    #Se genera un ciclo for para iterar la función muchas veces\n",
    "    for i in range(vueltas):\n",
    "        func(*args)\n",
    "    t2=time() #Tiempo posterior a la operación\n",
    "    \n",
    "    #{t2 - t1:0.4f} es la diferencia entre estos tiempos, con 4 decimales.\n",
    "    print(f\"Esta función se ha tardado {t2-t1:0.4f} segundos\") #El resultado está en segundos"
   ]
  },
  {
   "cell_type": "code",
   "execution_count": 4,
   "metadata": {},
   "outputs": [
    {
     "name": "stdout",
     "output_type": "stream",
     "text": [
      "Esta función se ha tardado 0.2423 segundos\n"
     ]
    }
   ],
   "source": [
    "medir_tiempo(cubo, 4, vueltas=1000000)"
   ]
  },
  {
   "cell_type": "code",
   "execution_count": 5,
   "metadata": {},
   "outputs": [
    {
     "name": "stdout",
     "output_type": "stream",
     "text": [
      "Esta función se ha tardado 0.1157 segundos\n"
     ]
    }
   ],
   "source": [
    "medir_tiempo(TresVeces, 4, vueltas=1000000)"
   ]
  },
  {
   "cell_type": "markdown",
   "metadata": {},
   "source": [
    "Con esta primera solución se puede observar que x\\*x\\*x es más rapido que x\\*\\*3."
   ]
  },
  {
   "cell_type": "markdown",
   "metadata": {},
   "source": [
    "**Solución 2:**"
   ]
  },
  {
   "cell_type": "markdown",
   "metadata": {},
   "source": [
    "Para esta segunda solución, en vez de hacer que la función \"medir_tiempo\" itere, se define que las funciones misma iteren las veces que el usuario quiera, de esta manera, la función \"medir_tiempo\" ya no necesita realizar la operación muchas veces antes de calcular el tiempo, simplemente muestra el tiempo de ya una operación iterada."
   ]
  },
  {
   "cell_type": "code",
   "execution_count": 6,
   "metadata": {},
   "outputs": [],
   "source": [
    "#Definición de diferentes representaciones de la operación x^3\n",
    "def cubo2(n):\n",
    "    '''\n",
    "    Esta función entrega el cubo de un número.\n",
    "    Se usa con el comando \"cubo2(ingrese cualquier número)\".\n",
    "    \n",
    "    Ejemplo: 3^3=27\n",
    "    \n",
    "    *La función itera en sí misma muchas veces, este valor \n",
    "    puede ser modificado por el usuario*\n",
    "    '''\n",
    "    \n",
    "    #Se genera un ciclo for para iterar la función muchas veces\n",
    "    vueltas = 1000000 #Parámetro variable\n",
    "    for i in range(vueltas):\n",
    "        n**3\n",
    "    return n**3 #Operación: elevar al cubo\n",
    "\n",
    "def TresVeces2(n):\n",
    "    '''\n",
    "    Esta función entrega un número multiplicado consigo mismo tres veces.\n",
    "    Se usa con el comando \"TresVeces2(ingrese cualquier número)\".\n",
    "    \n",
    "    Ejemplo: 2x2x2=8\n",
    "    \n",
    "    *La función itera en sí misma muchas veces, este valor \n",
    "    puede ser modificado por el usuario*\n",
    "    '''\n",
    "    \n",
    "    vueltas = 1000000 #Parámetro variable\n",
    "    for i in range(vueltas):\n",
    "        n*n*n\n",
    "    return n*n*n #Operación: multiplicar tres veces el valor"
   ]
  },
  {
   "cell_type": "code",
   "execution_count": 7,
   "metadata": {},
   "outputs": [],
   "source": [
    "#Se define una función útil para medir el tiempo que tarda una operación\n",
    "def medir_tiempo2(func, *args):\n",
    "    t1=time() #Tiempo anterior a la operación\n",
    "    func(*args)\n",
    "    t2=time() #Tiempo posterior a la operación\n",
    "    \n",
    "    #{t2 - t1:0.4f} es la diferencia entre estos tiempos, con 4 decimales.\n",
    "    print(f\"Esta función se ha tardado {t2-t1:0.4f} segundos\") #El resultado está en segundos"
   ]
  },
  {
   "cell_type": "code",
   "execution_count": 8,
   "metadata": {},
   "outputs": [
    {
     "name": "stdout",
     "output_type": "stream",
     "text": [
      "Esta función se ha tardado 0.1815 segundos\n"
     ]
    }
   ],
   "source": [
    "medir_tiempo2(cubo2, 4)"
   ]
  },
  {
   "cell_type": "code",
   "execution_count": 9,
   "metadata": {},
   "outputs": [
    {
     "name": "stdout",
     "output_type": "stream",
     "text": [
      "Esta función se ha tardado 0.0598 segundos\n"
     ]
    }
   ],
   "source": [
    "medir_tiempo2(TresVeces2, 4)"
   ]
  },
  {
   "cell_type": "markdown",
   "metadata": {},
   "source": [
    "Finalmente con esta segunda solución se puede concluir que x\\*x\\*x es mas rapido que x\\*\\*3."
   ]
  }
 ],
 "metadata": {
  "kernelspec": {
   "display_name": "Python 3",
   "language": "python",
   "name": "python3"
  },
  "language_info": {
   "codemirror_mode": {
    "name": "ipython",
    "version": 3
   },
   "file_extension": ".py",
   "mimetype": "text/x-python",
   "name": "python",
   "nbconvert_exporter": "python",
   "pygments_lexer": "ipython3",
   "version": "3.8.3"
  }
 },
 "nbformat": 4,
 "nbformat_minor": 4
}
