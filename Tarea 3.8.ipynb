{
 "cells": [
  {
   "cell_type": "markdown",
   "metadata": {},
   "source": [
    "### Tarea 3.8"
   ]
  },
  {
   "cell_type": "markdown",
   "metadata": {},
   "source": [
    "Usando lo que sabe de trigonometría y series de Taylor, escriba otra manera de calcular el número $\\pi$. Compare la precisión y convergencia de su expresión con las expresiones dadas en la clase. Ilustre sus conclusiones con gráficos. (Pista: ¿Cuánto es el coseno inverso de 1/2? ¿Cuál es su expansión de Taylor?)"
   ]
  },
  {
   "cell_type": "code",
   "execution_count": 1,
   "metadata": {},
   "outputs": [],
   "source": [
    "import numpy as np\n",
    "import matplotlib.pyplot as plt"
   ]
  },
  {
   "cell_type": "markdown",
   "metadata": {},
   "source": [
    "Se puede usar la siguiente relación:\n",
    "\n",
    "$$\n",
    "\\arccos{\\left(\\frac{1}{2}\\right)} = \\frac{\\pi}{3}\n",
    "$$\n"
   ]
  },
  {
   "cell_type": "markdown",
   "metadata": {},
   "source": [
    "Luego al expandir $\\arccos{(1/2)}$ se obtiene:\n",
    "\n",
    "$$\n",
    "\\frac{\\pi}{2} - \\left( \\frac{1}{2} + \\frac{1}{2}\\frac{(1/2)^3}{3} + \\frac{1 \\cdot 3}{2 \\cdot 4}\\frac{(1/2)^5}{5} + \\frac{1 \\cdot 3 \\cdot 5}{2 \\cdot 4 \\cdot 6}\\frac{(1/2)^7}{7} + \\cdots \\right) = \\frac{\\pi}{3}\n",
    "$$\n",
    "\n"
   ]
  },
  {
   "cell_type": "markdown",
   "metadata": {},
   "source": [
    "Al despejar para $\\pi$, queda:\n",
    "\n",
    "$$\n",
    "\\pi = 6 \\left( \\frac{1}{2} + \\frac{1}{2}\\frac{(1/2)^3}{3} + \\frac{1 \\cdot 3}{2 \\cdot 4}\\frac{(1/2)^5}{5} + \\frac{1 \\cdot 3 \\cdot 5}{2 \\cdot 4 \\cdot 6}\\frac{(1/2)^7}{7} + \\cdots \\right)\n",
    "$$\n",
    "\n",
    "\n",
    "$$\n",
    "\\pi =  3 + 6 \\left(\\frac{1}{2}\\frac{(1/2)^3}{3} + \\frac{1 \\cdot 3}{2 \\cdot 4}\\frac{(1/2)^5}{5} + \\frac{1 \\cdot 3 \\cdot 5}{2 \\cdot 4 \\cdot 6}\\frac{(1/2)^7}{7} + \\cdots \\right)\n",
    "$$"
   ]
  },
  {
   "cell_type": "markdown",
   "metadata": {},
   "source": [
    "Esta expresión se puede escribir de la siguiente forma:\n",
    "\n",
    "$$\n",
    "\\pi = 3 + 6 \\sum_{n=0}^\\infty \\frac{(2n+1)!!}{(2n+2)!!}\\frac{(1/2)^{2n+3}}{2n+3}\n",
    "$$"
   ]
  },
  {
   "cell_type": "code",
   "execution_count": 2,
   "metadata": {},
   "outputs": [],
   "source": [
    "#Definición de una función la cual se usará más adelante en el código\n",
    "\n",
    "def DobleFactorial(n):\n",
    "    '''\n",
    "    Esta función entrega el doble factorial de un numero entero positivo;\n",
    "    la operación multiplica todos los números en secuencias de dos en dos,\n",
    "    ya sean todos los impares o pares. Matemáticamente se escribe como n!!.\n",
    "    \n",
    "    Ejemplo 1: DobleFactorial(6) = 6 x 4 x 2\n",
    "    Ejemplo 2: DobleFactorial(7) = 7 x 5 x 3 x 1\n",
    "    Ejemplo 3: DobleFactorial(0) = 1 (Por definición)\n",
    "    '''\n",
    "\n",
    "#Propiedades de la función DobleFactorial\n",
    "    if n < 0:\n",
    "        return \"Esta función está definida para valores enteros positivos\"\n",
    "    elif n == 0:\n",
    "        return 1\n",
    "    elif n == 1:\n",
    "        return 1\n",
    "    else:\n",
    "        return n*DobleFactorial(n-2)"
   ]
  },
  {
   "cell_type": "code",
   "execution_count": 3,
   "metadata": {},
   "outputs": [
    {
     "data": {
      "text/plain": [
       "[3.125,\n",
       " 3.1390625,\n",
       " 3.1411551339285717,\n",
       " 3.14151117234003,\n",
       " 3.1415767157748666,\n",
       " 3.141589425319122,\n",
       " 3.1415919823583827,\n",
       " 3.141592511157862,\n",
       " 3.1415926228706175,\n",
       " 3.141592646875561,\n",
       " 3.141592652105887,\n",
       " 3.141592653258738,\n",
       " 3.1415926535153376,\n",
       " 3.14159265357293,\n",
       " 3.1415926535859504,\n",
       " 3.1415926535889125,\n",
       " 3.14159265358959,\n",
       " 3.141592653589746,\n",
       " 3.141592653589782,\n",
       " 3.1415926535897905,\n",
       " 3.1415926535897922,\n",
       " 3.1415926535897927,\n",
       " 3.1415926535897927,\n",
       " 3.1415926535897927,\n",
       " 3.1415926535897927,\n",
       " 3.1415926535897927,\n",
       " 3.1415926535897927,\n",
       " 3.1415926535897927,\n",
       " 3.1415926535897927,\n",
       " 3.1415926535897927,\n",
       " 3.1415926535897927,\n",
       " 3.1415926535897927,\n",
       " 3.1415926535897927,\n",
       " 3.1415926535897927,\n",
       " 3.1415926535897927,\n",
       " 3.1415926535897927,\n",
       " 3.1415926535897927,\n",
       " 3.1415926535897927,\n",
       " 3.1415926535897927,\n",
       " 3.1415926535897927,\n",
       " 3.1415926535897927,\n",
       " 3.1415926535897927,\n",
       " 3.1415926535897927,\n",
       " 3.1415926535897927,\n",
       " 3.1415926535897927,\n",
       " 3.1415926535897927,\n",
       " 3.1415926535897927,\n",
       " 3.1415926535897927,\n",
       " 3.1415926535897927,\n",
       " 3.1415926535897927,\n",
       " 3.1415926535897927,\n",
       " 3.1415926535897927,\n",
       " 3.1415926535897927,\n",
       " 3.1415926535897927,\n",
       " 3.1415926535897927,\n",
       " 3.1415926535897927,\n",
       " 3.1415926535897927,\n",
       " 3.1415926535897927,\n",
       " 3.1415926535897927,\n",
       " 3.1415926535897927]"
      ]
     },
     "execution_count": 3,
     "metadata": {},
     "output_type": "execute_result"
    }
   ],
   "source": [
    "#Se toma el primer valor constante en la suma\n",
    "casi_pi = 3\n",
    "resultado = [] #También se define un lista de los resultados\n",
    "\n",
    "#Se hace la suma para poder converger a pi\n",
    "for n in range(60):\n",
    "    casi_pi=casi_pi + 6*DobleFactorial(2*n+1)/DobleFactorial(2*n+2) * (1/2)**(2*n+3)/(2*n+3)\n",
    "    resultado.append(casi_pi)\n",
    "\n",
    "#Impresión de valores\n",
    "resultado"
   ]
  },
  {
   "cell_type": "code",
   "execution_count": 4,
   "metadata": {},
   "outputs": [
    {
     "data": {
      "image/png": "[encoded data removed]",
      "text/plain": [
       "<Figure size 432x288 with 1 Axes>"
      ]
     },
     "metadata": {
      "needs_background": "light"
     },
     "output_type": "display_data"
    }
   ],
   "source": [
    "#Comparación del valor real de pi con la aproximación hecha anteriormente\n",
    "#Se grafíca logarítmicamente, de esta manera se visualizan mejor las gráficas\n",
    "plt.loglog(range(60), resultado, label='Aproximación a $\\pi$')\n",
    "plt.loglog(range(60), np.full(60, np.pi), label='$\\pi$ \"real\"')\n",
    "plt.legend()\n",
    "plt.show()"
   ]
  },
  {
   "cell_type": "markdown",
   "metadata": {},
   "source": [
    "Como se puede observar la suma o sucesión converge muy bien al valor \"real\" de pi, pero con este gráfico no se puede apreciar bien la convergencia, para ello se realizará un \"zoom\"."
   ]
  },
  {
   "cell_type": "code",
   "execution_count": 5,
   "metadata": {},
   "outputs": [
    {
     "data": {
      "image/png": "[encoded data removed]",
      "text/plain": [
       "<Figure size 432x288 with 1 Axes>"
      ]
     },
     "metadata": {
      "needs_background": "light"
     },
     "output_type": "display_data"
    }
   ],
   "source": [
    "plt.loglog(range(60), resultado, label='Aproximación a $\\pi$')\n",
    "plt.loglog(range(60), np.full(60, np.pi), label='$\\pi$ \"real\"')\n",
    "\n",
    "#Se hace un zoom para poder observar mejor la convergencia a pi\n",
    "plt.ylim(np.pi - 0.001*np.pi, np.pi + 0.001*np.pi)\n",
    "\n",
    "plt.legend()\n",
    "plt.show()"
   ]
  },
  {
   "cell_type": "markdown",
   "metadata": {},
   "source": [
    "Ahora sí, al poder visualizar mejor el crecimiento de esta sumatoria se puede mencionar que converge bastante rapido al valor esperado de $\\pi$. Se puede concluir que la expansión dada por el arcocoseno de $\\frac{1}{2}$ es una muy buena aproximación al valor de $\\pi$ que se buscaba."
   ]
  },
  {
   "cell_type": "markdown",
   "metadata": {},
   "source": [
    "# Calificación: 6.9"
   ]
  },
  {
   "cell_type": "markdown",
   "metadata": {},
   "source": [
    "Faltó comparar con las aproximaciones dadas en clase."
   ]
  }
 ],
 "metadata": {
  "kernelspec": {
   "display_name": "Python 3",
   "language": "python",
   "name": "python3"
  },
  "language_info": {
   "codemirror_mode": {
    "name": "ipython",
    "version": 3
   },
   "file_extension": ".py",
   "mimetype": "text/x-python",
   "name": "python",
   "nbconvert_exporter": "python",
   "pygments_lexer": "ipython3",
   "version": "3.8.5"
  }
 },
 "nbformat": 4,
 "nbformat_minor": 4
}
